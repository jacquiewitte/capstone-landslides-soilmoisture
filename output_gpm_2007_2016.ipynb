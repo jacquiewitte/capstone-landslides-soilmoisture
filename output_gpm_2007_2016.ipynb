{
 "cells": [
  {
   "cell_type": "markdown",
   "id": "476df889",
   "metadata": {},
   "source": [
    "# Read all the NASA GPM data for 2006-2016 over Colorado\n",
    "### This is done separately because the files are many and takes up huge computation time that performing any further code takes forever! \n",
    "### Export as a netcdf"
   ]
  },
  {
   "cell_type": "markdown",
   "id": "78ceece2",
   "metadata": {},
   "source": [
    "## Author: Jacquelyn Witte"
   ]
  },
  {
   "cell_type": "markdown",
   "id": "1272c592",
   "metadata": {},
   "source": [
    "#### Change directory to where all the Capstone data reside"
   ]
  },
  {
   "cell_type": "code",
   "execution_count": 3,
   "id": "63ec3b7a",
   "metadata": {},
   "outputs": [],
   "source": [
    "import os\n",
    "from glob import glob\n",
    "\n",
    "import earthpy as et\n",
    "import xarray as xr"
   ]
  },
  {
   "cell_type": "markdown",
   "id": "fc87eebe",
   "metadata": {},
   "source": [
    "#### Directory where GPM data reside"
   ]
  },
  {
   "cell_type": "code",
   "execution_count": 5,
   "id": "fc3a8f5f",
   "metadata": {},
   "outputs": [
    {
     "data": {
      "text/plain": [
       "3651"
      ]
     },
     "execution_count": 5,
     "metadata": {},
     "output_type": "execute_result"
    }
   ],
   "source": [
    "gpm_dir = os.path.join(et.io.HOME,\n",
    "                        'earth-analytics',\n",
    "                        'data', 'capstone', \n",
    "                        'gpm')\n",
    "# Find the files, make them sorted\n",
    "gpm_files = sorted(glob(os.path.join(gpm_dir, '*nc4')))\n",
    "len(gpm_files)"
   ]
  },
  {
   "cell_type": "markdown",
   "id": "effba902",
   "metadata": {},
   "source": [
    "#### Read the data into a list"
   ]
  },
  {
   "cell_type": "code",
   "execution_count": null,
   "id": "98ca36f0",
   "metadata": {},
   "outputs": [],
   "source": [
    "gpm_all = []\n",
    "for i, file in enumerate(gpm_files):\n",
    "    print(file)\n",
    "    data = xr.open_dataset(file).squeeze()\n",
    "    gpm_all.append(data)"
   ]
  },
  {
   "cell_type": "markdown",
   "id": "ef6627c1",
   "metadata": {},
   "source": [
    "#### Turn list of data into a single xarray object. This takes a very long time! "
   ]
  },
  {
   "cell_type": "code",
   "execution_count": null,
   "id": "0cb05df5",
   "metadata": {},
   "outputs": [],
   "source": [
    "gpm_xr = xr.concat(gpm_all, dim=\"time\")"
   ]
  },
  {
   "cell_type": "markdown",
   "id": "9c41f00e",
   "metadata": {},
   "source": [
    "#### Save dataArray to a netCDF4 file"
   ]
  },
  {
   "cell_type": "code",
   "execution_count": null,
   "id": "5f1a8e3d",
   "metadata": {},
   "outputs": [],
   "source": [
    "gpm_xr.to_netcdf(os.path.join(gpm_dir, 'gpm_all_saved_on_disk.nc')"
   ]
  }
 ],
 "metadata": {
  "kernelspec": {
   "display_name": "Python 3 (ipykernel)",
   "language": "python",
   "name": "python3"
  },
  "language_info": {
   "codemirror_mode": {
    "name": "ipython",
    "version": 3
   },
   "file_extension": ".py",
   "mimetype": "text/x-python",
   "name": "python",
   "nbconvert_exporter": "python",
   "pygments_lexer": "ipython3",
   "version": "3.8.10"
  },
  "varInspector": {
   "cols": {
    "lenName": 16,
    "lenType": 16,
    "lenVar": 40
   },
   "kernels_config": {
    "python": {
     "delete_cmd_postfix": "",
     "delete_cmd_prefix": "del ",
     "library": "var_list.py",
     "varRefreshCmd": "print(var_dic_list())"
    },
    "r": {
     "delete_cmd_postfix": ") ",
     "delete_cmd_prefix": "rm(",
     "library": "var_list.r",
     "varRefreshCmd": "cat(var_dic_list()) "
    }
   },
   "types_to_exclude": [
    "module",
    "function",
    "builtin_function_or_method",
    "instance",
    "_Feature"
   ],
   "window_display": false
  }
 },
 "nbformat": 4,
 "nbformat_minor": 5
}
