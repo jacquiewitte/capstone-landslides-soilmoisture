{
 "cells": [
  {
   "cell_type": "markdown",
   "id": "f8c6a296",
   "metadata": {},
   "source": [
    "# Read all the NASA SMAP HDF5 data for 2015-2016 over Colorado\n",
    "### This is done separately because the files are many and takes up huge computation time that performing any further code takes forever! \n",
    "### Export as a netcdf4 file"
   ]
  },
  {
   "cell_type": "code",
   "execution_count": 37,
   "id": "1c29d3fe",
   "metadata": {},
   "outputs": [],
   "source": [
    "import os\n",
    "from glob import glob\n",
    "\n",
    "import earthpy as et\n",
    "import matplotlib.pyplot as plt\n",
    "import xarray as xr\n",
    "import numpy as np\n",
    "import h5py"
   ]
  },
  {
   "cell_type": "code",
   "execution_count": 105,
   "id": "611148e9",
   "metadata": {},
   "outputs": [],
   "source": [
    "data_dir = os.path.join(et.io.HOME,\n",
    "                        'earth-analytics',\n",
    "                        'data', 'capstone', 'smap_colorado')\n",
    "\n",
    "file = sorted(glob(os.path.join(data_dir, '*.h5')))\n",
    "\n",
    "f = h5py.File(file[10], 'r')"
   ]
  },
  {
   "cell_type": "code",
   "execution_count": 106,
   "id": "ea7cd5d6",
   "metadata": {},
   "outputs": [
    {
     "name": "stdout",
     "output_type": "stream",
     "text": [
      "Now lets look at the groups within the file to access:\n",
      "0\tMetadata\n",
      "1\tSoil_Moisture_Retrieval_Data_AM\n",
      "2\tSoil_Moisture_Retrieval_Data_PM\n",
      "\n",
      "\n",
      "Now lets look at the variables within the filegroup **Soil_Moisture_Retrieval_Data_AM** to access the actual data:\n",
      "0\tEASE_column_index\n",
      "1\tEASE_row_index\n",
      "2\talbedo\n",
      "3\talbedo_dca\n",
      "4\talbedo_scah\n",
      "5\talbedo_scav\n",
      "6\tboresight_incidence\n",
      "7\tbulk_density\n",
      "8\tclay_fraction\n",
      "9\tfreeze_thaw_fraction\n",
      "10\tgrid_surface_status\n",
      "11\tlatitude\n",
      "12\tlatitude_centroid\n",
      "13\tlongitude\n",
      "14\tlongitude_centroid\n",
      "15\tradar_water_body_fraction\n",
      "16\tretrieval_qual_flag\n",
      "17\tretrieval_qual_flag_dca\n",
      "18\tretrieval_qual_flag_scah\n",
      "19\tretrieval_qual_flag_scav\n",
      "20\troughness_coefficient\n",
      "21\troughness_coefficient_dca\n",
      "22\troughness_coefficient_scah\n",
      "23\troughness_coefficient_scav\n",
      "24\tsoil_moisture\n",
      "25\tsoil_moisture_dca\n",
      "26\tsoil_moisture_error\n",
      "27\tsoil_moisture_scah\n",
      "28\tsoil_moisture_scav\n",
      "29\tstatic_water_body_fraction\n",
      "30\tsurface_flag\n",
      "31\tsurface_temperature\n",
      "32\tsurface_water_fraction_mb_h\n",
      "33\tsurface_water_fraction_mb_v\n",
      "34\ttb_3_corrected\n",
      "35\ttb_4_corrected\n",
      "36\ttb_h_corrected\n",
      "37\ttb_h_uncorrected\n",
      "38\ttb_qual_flag_3\n",
      "39\ttb_qual_flag_4\n",
      "40\ttb_qual_flag_h\n",
      "41\ttb_qual_flag_v\n",
      "42\ttb_time_seconds\n",
      "43\ttb_time_utc\n",
      "44\ttb_v_corrected\n",
      "45\ttb_v_uncorrected\n",
      "46\tvegetation_opacity\n",
      "47\tvegetation_opacity_dca\n",
      "48\tvegetation_opacity_scah\n",
      "49\tvegetation_opacity_scav\n",
      "50\tvegetation_water_content\n"
     ]
    }
   ],
   "source": [
    "print(\"Now lets look at the groups within the file to access:\")\n",
    "i=0;\n",
    "for key in f.keys():\n",
    "    print(str(i)+ '\\t'+key)\n",
    "    i+=1\n",
    "print('\\n')\n",
    "\n",
    "# Lets focus on the AM overpass for this example\n",
    "group_id=list(f.keys())[1]; \n",
    "\n",
    "i=0\n",
    "print(\"Now lets look at the variables within the filegroup **Soil_Moisture_Retrieval_Data_AM** to access the actual data:\")\n",
    "for var in list(f[group_id].keys()):\n",
    "    print(str(i)+'\\t'+var)\n",
    "    i+=1"
   ]
  },
  {
   "cell_type": "code",
   "execution_count": 107,
   "id": "91c9b4b1",
   "metadata": {},
   "outputs": [
    {
     "name": "stdout",
     "output_type": "stream",
     "text": [
      "the data has a shape of: (1624, 3856)\n"
     ]
    }
   ],
   "source": [
    "print('the data has a shape of: '+str(f[group_id][list(f[group_id].keys())[0]].shape))"
   ]
  },
  {
   "cell_type": "markdown",
   "id": "aef892f4",
   "metadata": {},
   "source": [
    "#### Retrieve the soil moisture, latitude, longitude parameters"
   ]
  },
  {
   "cell_type": "code",
   "execution_count": 108,
   "id": "f828ce2f",
   "metadata": {},
   "outputs": [
    {
     "name": "stdout",
     "output_type": "stream",
     "text": [
      "data are returned as <class 'numpy.ndarray'> something easy to work with in python.\n",
      "<HDF5 dataset \"soil_moisture\": shape (1624, 3856), type \"<f4\">\n",
      "<HDF5 dataset \"longitude\": shape (1624, 3856), type \"<f4\">\n",
      "<HDF5 dataset \"latitude\": shape (1624, 3856), type \"<f4\">\n"
     ]
    }
   ],
   "source": [
    "var_id = list(f[group_id].keys())[24] # soil_moisture\n",
    "sm_data = f[group_id][var_id][:]\n",
    "\n",
    "lon_id = list(f[group_id].keys())[13] # longitude centroid\n",
    "sm_lon = f[group_id][lon_id][:]\n",
    "\n",
    "lat_id = list(f[group_id].keys())[11] # latitude centroid\n",
    "sm_lat = f[group_id][lat_id][:]\n",
    "\n",
    "sm_ds = f[group_id][var_id]\n",
    "sm_lon = f[group_id][lon_id]\n",
    "sm_lat = f[group_id][lat_id]\n",
    "\n",
    "\n",
    "print('data are returned as '+str(type(sm_data)) + ' something easy to work with in python.')\n",
    "print(sm_ds)\n",
    "print(sm_lon)\n",
    "print(sm_lat)"
   ]
  },
  {
   "cell_type": "markdown",
   "id": "01ed378b",
   "metadata": {},
   "source": [
    "#### Replace bad values with NaN"
   ]
  },
  {
   "cell_type": "code",
   "execution_count": 110,
   "id": "34342c80",
   "metadata": {},
   "outputs": [
    {
     "ename": "OSError",
     "evalue": "Can't write data (no write intent on file)",
     "output_type": "error",
     "traceback": [
      "\u001b[0;31m---------------------------------------------------------------------------\u001b[0m",
      "\u001b[0;31mOSError\u001b[0m                                   Traceback (most recent call last)",
      "\u001b[0;32m/var/folders/62/hcc5vcxn7rq_26dztbs26rfm000zzf/T/ipykernel_64452/333391015.py\u001b[0m in \u001b[0;36m<module>\u001b[0;34m\u001b[0m\n\u001b[1;32m      2\u001b[0m \u001b[0msm_data\u001b[0m\u001b[0;34m[\u001b[0m\u001b[0msm_data\u001b[0m \u001b[0;34m==\u001b[0m \u001b[0;34m-\u001b[0m\u001b[0;36m9999.0\u001b[0m\u001b[0;34m]\u001b[0m \u001b[0;34m=\u001b[0m \u001b[0mnp\u001b[0m\u001b[0;34m.\u001b[0m\u001b[0mnan\u001b[0m\u001b[0;34m\u001b[0m\u001b[0;34m\u001b[0m\u001b[0m\n\u001b[1;32m      3\u001b[0m \u001b[0;34m\u001b[0m\u001b[0m\n\u001b[0;32m----> 4\u001b[0;31m \u001b[0msm_lon\u001b[0m\u001b[0;34m[\u001b[0m\u001b[0msm_lon\u001b[0m \u001b[0;34m==\u001b[0m \u001b[0;34m-\u001b[0m\u001b[0;36m9999.0\u001b[0m\u001b[0;34m]\u001b[0m \u001b[0;34m=\u001b[0m \u001b[0mnp\u001b[0m\u001b[0;34m.\u001b[0m\u001b[0mnan\u001b[0m\u001b[0;34m\u001b[0m\u001b[0;34m\u001b[0m\u001b[0m\n\u001b[0m\u001b[1;32m      5\u001b[0m \u001b[0;31m#sm_lat[sm_lat == -9999.0] = np.nan\u001b[0m\u001b[0;34m\u001b[0m\u001b[0;34m\u001b[0m\u001b[0;34m\u001b[0m\u001b[0m\n",
      "\u001b[0;32mh5py/_objects.pyx\u001b[0m in \u001b[0;36mh5py._objects.with_phil.wrapper\u001b[0;34m()\u001b[0m\n",
      "\u001b[0;32mh5py/_objects.pyx\u001b[0m in \u001b[0;36mh5py._objects.with_phil.wrapper\u001b[0;34m()\u001b[0m\n",
      "\u001b[0;32m~/miniconda3/envs/earth-analytics-python/lib/python3.8/site-packages/h5py/_hl/dataset.py\u001b[0m in \u001b[0;36m__setitem__\u001b[0;34m(self, args, val)\u001b[0m\n\u001b[1;32m    949\u001b[0m         \u001b[0mmspace\u001b[0m \u001b[0;34m=\u001b[0m \u001b[0mh5s\u001b[0m\u001b[0;34m.\u001b[0m\u001b[0mcreate_simple\u001b[0m\u001b[0;34m(\u001b[0m\u001b[0mselection\u001b[0m\u001b[0;34m.\u001b[0m\u001b[0mexpand_shape\u001b[0m\u001b[0;34m(\u001b[0m\u001b[0mmshape\u001b[0m\u001b[0;34m)\u001b[0m\u001b[0;34m)\u001b[0m\u001b[0;34m\u001b[0m\u001b[0;34m\u001b[0m\u001b[0m\n\u001b[1;32m    950\u001b[0m         \u001b[0;32mfor\u001b[0m \u001b[0mfspace\u001b[0m \u001b[0;32min\u001b[0m \u001b[0mselection\u001b[0m\u001b[0;34m.\u001b[0m\u001b[0mbroadcast\u001b[0m\u001b[0;34m(\u001b[0m\u001b[0mmshape\u001b[0m\u001b[0;34m)\u001b[0m\u001b[0;34m:\u001b[0m\u001b[0;34m\u001b[0m\u001b[0;34m\u001b[0m\u001b[0m\n\u001b[0;32m--> 951\u001b[0;31m             \u001b[0mself\u001b[0m\u001b[0;34m.\u001b[0m\u001b[0mid\u001b[0m\u001b[0;34m.\u001b[0m\u001b[0mwrite\u001b[0m\u001b[0;34m(\u001b[0m\u001b[0mmspace\u001b[0m\u001b[0;34m,\u001b[0m \u001b[0mfspace\u001b[0m\u001b[0;34m,\u001b[0m \u001b[0mval\u001b[0m\u001b[0;34m,\u001b[0m \u001b[0mmtype\u001b[0m\u001b[0;34m,\u001b[0m \u001b[0mdxpl\u001b[0m\u001b[0;34m=\u001b[0m\u001b[0mself\u001b[0m\u001b[0;34m.\u001b[0m\u001b[0m_dxpl\u001b[0m\u001b[0;34m)\u001b[0m\u001b[0;34m\u001b[0m\u001b[0;34m\u001b[0m\u001b[0m\n\u001b[0m\u001b[1;32m    952\u001b[0m \u001b[0;34m\u001b[0m\u001b[0m\n\u001b[1;32m    953\u001b[0m     \u001b[0;32mdef\u001b[0m \u001b[0mread_direct\u001b[0m\u001b[0;34m(\u001b[0m\u001b[0mself\u001b[0m\u001b[0;34m,\u001b[0m \u001b[0mdest\u001b[0m\u001b[0;34m,\u001b[0m \u001b[0msource_sel\u001b[0m\u001b[0;34m=\u001b[0m\u001b[0;32mNone\u001b[0m\u001b[0;34m,\u001b[0m \u001b[0mdest_sel\u001b[0m\u001b[0;34m=\u001b[0m\u001b[0;32mNone\u001b[0m\u001b[0;34m)\u001b[0m\u001b[0;34m:\u001b[0m\u001b[0;34m\u001b[0m\u001b[0;34m\u001b[0m\u001b[0m\n",
      "\u001b[0;32mh5py/_objects.pyx\u001b[0m in \u001b[0;36mh5py._objects.with_phil.wrapper\u001b[0;34m()\u001b[0m\n",
      "\u001b[0;32mh5py/_objects.pyx\u001b[0m in \u001b[0;36mh5py._objects.with_phil.wrapper\u001b[0;34m()\u001b[0m\n",
      "\u001b[0;32mh5py/h5d.pyx\u001b[0m in \u001b[0;36mh5py.h5d.DatasetID.write\u001b[0;34m()\u001b[0m\n",
      "\u001b[0;32mh5py/_proxy.pyx\u001b[0m in \u001b[0;36mh5py._proxy.dset_rw\u001b[0;34m()\u001b[0m\n",
      "\u001b[0;31mOSError\u001b[0m: Can't write data (no write intent on file)"
     ]
    }
   ],
   "source": [
    "sm_ds = f[group_id][var_id]\n",
    "sm_data[sm_data == -9999.0] = np.nan\n",
    "\n",
    "sm_lon[sm_lon == -9999.0] = np.nan\n",
    "#sm_lat[sm_lat == -9999.0] = np.nan"
   ]
  },
  {
   "cell_type": "markdown",
   "id": "b42e2f96",
   "metadata": {},
   "source": [
    "#### Isolate Colorado"
   ]
  },
  {
   "cell_type": "code",
   "execution_count": 90,
   "id": "44f6dc55",
   "metadata": {},
   "outputs": [
    {
     "ename": "TypeError",
     "evalue": "'>' not supported between instances of 'Dataset' and 'float'",
     "output_type": "error",
     "traceback": [
      "\u001b[0;31m---------------------------------------------------------------------------\u001b[0m",
      "\u001b[0;31mTypeError\u001b[0m                                 Traceback (most recent call last)",
      "\u001b[0;32m/var/folders/62/hcc5vcxn7rq_26dztbs26rfm000zzf/T/ipykernel_64452/395933983.py\u001b[0m in \u001b[0;36m<module>\u001b[0;34m\u001b[0m\n\u001b[1;32m      5\u001b[0m \u001b[0;34m\u001b[0m\u001b[0m\n\u001b[1;32m      6\u001b[0m \u001b[0;34m\u001b[0m\u001b[0m\n\u001b[0;32m----> 7\u001b[0;31m \u001b[0mlat_index\u001b[0m \u001b[0;34m=\u001b[0m \u001b[0mnp\u001b[0m\u001b[0;34m.\u001b[0m\u001b[0mlogical_and\u001b[0m\u001b[0;34m(\u001b[0m\u001b[0msm_lat\u001b[0m \u001b[0;34m>\u001b[0m \u001b[0mbox_lat\u001b[0m\u001b[0;34m[\u001b[0m\u001b[0;36m0\u001b[0m\u001b[0;34m]\u001b[0m\u001b[0;34m,\u001b[0m \u001b[0msm_lat\u001b[0m \u001b[0;34m<\u001b[0m \u001b[0mbox_lat\u001b[0m\u001b[0;34m[\u001b[0m\u001b[0;36m1\u001b[0m\u001b[0;34m]\u001b[0m\u001b[0;34m)\u001b[0m\u001b[0;34m\u001b[0m\u001b[0;34m\u001b[0m\u001b[0m\n\u001b[0m\u001b[1;32m      8\u001b[0m \u001b[0mlon_index\u001b[0m \u001b[0;34m=\u001b[0m \u001b[0mnp\u001b[0m\u001b[0;34m.\u001b[0m\u001b[0mlogical_and\u001b[0m\u001b[0;34m(\u001b[0m\u001b[0msm_lon\u001b[0m \u001b[0;34m>\u001b[0m \u001b[0mbox_lon\u001b[0m\u001b[0;34m[\u001b[0m\u001b[0;36m0\u001b[0m\u001b[0;34m]\u001b[0m\u001b[0;34m,\u001b[0m \u001b[0msm_lon\u001b[0m \u001b[0;34m<\u001b[0m \u001b[0mbox_lon\u001b[0m\u001b[0;34m[\u001b[0m\u001b[0;36m1\u001b[0m\u001b[0;34m]\u001b[0m\u001b[0;34m)\u001b[0m\u001b[0;34m\u001b[0m\u001b[0;34m\u001b[0m\u001b[0m\n\u001b[1;32m      9\u001b[0m \u001b[0mbox_index\u001b[0m \u001b[0;34m=\u001b[0m \u001b[0mnp\u001b[0m\u001b[0;34m.\u001b[0m\u001b[0mlogical_and\u001b[0m\u001b[0;34m(\u001b[0m\u001b[0mlat_index\u001b[0m\u001b[0;34m,\u001b[0m \u001b[0mlon_index\u001b[0m\u001b[0;34m)\u001b[0m\u001b[0;34m\u001b[0m\u001b[0;34m\u001b[0m\u001b[0m\n",
      "\u001b[0;31mTypeError\u001b[0m: '>' not supported between instances of 'Dataset' and 'float'"
     ]
    }
   ],
   "source": [
    "# Bounding box taken from https://anthonylouisdagostino.com/bounding-boxes-for-all-us-states/\n",
    "# Reference for isolating a region: https://gis.stackexchange.com/questions/261061/extract-value-for-a-given-coordinate-from-hdf5-file\n",
    "box_lat = [36.992426, 41.003444]\n",
    "box_lon = [-109.060253, -102.041524]\n",
    "\n",
    "\n",
    "lat_index = np.logical_and(sm_lat > box_lat[0], sm_lat < box_lat[1])\n",
    "lon_index = np.logical_and(sm_lon > box_lon[0], sm_lon < box_lon[1])\n",
    "box_index = np.logical_and(lat_index, lon_index)\n",
    "data = sm_data[box_index]\n",
    "\n"
   ]
  },
  {
   "cell_type": "code",
   "execution_count": 36,
   "id": "797f56e1",
   "metadata": {},
   "outputs": [
    {
     "data": {
      "text/plain": [
       "(-0.5, 3855.5, 1623.5, -0.5)"
      ]
     },
     "execution_count": 36,
     "metadata": {},
     "output_type": "execute_result"
    },
    {
     "data": {
      "image/png": "[encoded data removed]",
      "text/plain": [
       "<Figure size 432x288 with 2 Axes>"
      ]
     },
     "metadata": {
      "needs_background": "light"
     },
     "output_type": "display_data"
    }
   ],
   "source": [
    "# Plot the data\n",
    "plt.imshow(sm_data, cmap='coolwarm_r')\n",
    "plt.title(os.path.basename(file))\n",
    "cbar = plt.colorbar(orientation = 'horizontal')\n",
    "cbar.set_label('$cm^3 cm^{-3}$')\n",
    "plt.axis('off')"
   ]
  },
  {
   "cell_type": "code",
   "execution_count": 94,
   "id": "0cb97cc6",
   "metadata": {},
   "outputs": [
    {
     "data": {
      "text/plain": [
       "<Attributes of HDF5 object at 140408045205600>"
      ]
     },
     "execution_count": 94,
     "metadata": {},
     "output_type": "execute_result"
    }
   ],
   "source": []
  },
  {
   "cell_type": "code",
   "execution_count": null,
   "id": "fd33b343",
   "metadata": {},
   "outputs": [],
   "source": []
  }
 ],
 "metadata": {
  "kernelspec": {
   "display_name": "Python 3 (ipykernel)",
   "language": "python",
   "name": "python3"
  },
  "language_info": {
   "codemirror_mode": {
    "name": "ipython",
    "version": 3
   },
   "file_extension": ".py",
   "mimetype": "text/x-python",
   "name": "python",
   "nbconvert_exporter": "python",
   "pygments_lexer": "ipython3",
   "version": "3.8.10"
  },
  "varInspector": {
   "cols": {
    "lenName": 16,
    "lenType": 16,
    "lenVar": 40
   },
   "kernels_config": {
    "python": {
     "delete_cmd_postfix": "",
     "delete_cmd_prefix": "del ",
     "library": "var_list.py",
     "varRefreshCmd": "print(var_dic_list())"
    },
    "r": {
     "delete_cmd_postfix": ") ",
     "delete_cmd_prefix": "rm(",
     "library": "var_list.r",
     "varRefreshCmd": "cat(var_dic_list()) "
    }
   },
   "types_to_exclude": [
    "module",
    "function",
    "builtin_function_or_method",
    "instance",
    "_Feature"
   ],
   "window_display": false
  }
 },
 "nbformat": 4,
 "nbformat_minor": 5
}
