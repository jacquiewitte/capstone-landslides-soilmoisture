{
 "cells": [
  {
   "cell_type": "markdown",
   "id": "5ee99698",
   "metadata": {},
   "source": [
    "# Demo notebook exploring reading and manipulating GPM IMERG nc4 subsetted data"
   ]
  },
  {
   "cell_type": "markdown",
   "id": "22186b8b",
   "metadata": {},
   "source": [
    "## Jacquelyn Witte"
   ]
  },
  {
   "cell_type": "code",
   "execution_count": 24,
   "id": "e98d3c4d",
   "metadata": {},
   "outputs": [],
   "source": [
    "import os\n",
    "import earthpy as et\n",
    "import matplotlib.pyplot as plt\n",
    "import pandas as pd\n",
    "import requests\n",
    "import wget\n",
    "import xarray as xr"
   ]
  },
  {
   "cell_type": "code",
   "execution_count": 2,
   "id": "96bc88f8",
   "metadata": {},
   "outputs": [],
   "source": [
    "data_dir = os.path.join(et.io.HOME,\n",
    "                        'earth-analytics',\n",
    "                        'data', 'capstone', 'gpm')\n",
    "url = 'https://gpm1.gesdisc.eosdis.nasa.gov/daac-bin/OTF/HTTP_services.cgi?FILENAME=%2Fdata%2FGPM_L3%2FGPM_3IMERGDL.06%2F2007%2F01%2F3B-DAY-L.MS.MRG.3IMERG.20070110-S000000-E235959.V06.nc4&FORMAT=bmM0Lw&BBOX=36.638%2C-109.468%2C41.428%2C-101.646&LABEL=3B-DAY-L.MS.MRG.3IMERG.20070110-S000000-E235959.V06.nc4.SUB.nc4&SHORTNAME=GPM_3IMERGDL&SERVICE=L34RS_GPM&VERSION=1.02&DATASET_VERSION=06'"
   ]
  },
  {
   "cell_type": "code",
   "execution_count": null,
   "id": "3f603a24",
   "metadata": {},
   "outputs": [],
   "source": [
    "# Having problems downloading all the data using earthpy, wget, requests, urllib and requests\n",
    "# This is an authorization issue. Try again using requests that allows login/password to be passed\n",
    "\n",
    "#r = et.data.get_data(url=url)\n",
    "\n",
    "#r = requests.get(url)\n",
    "\n",
    "#with open(base_path + url.split('&')[-5].split('LABEL=')[1], 'wb') as f:\n",
    "#    f.write(r.content)\n",
    "\n",
    "#open(base_path + url.split('&')[-5].split('LABEL=')[1], 'wb').write(r.content)\n",
    "    \n",
    "#urllib.request.urlretrieve(url, url.split('&')[-5].split('LABEL=')[1]) \n",
    "# url.split('&')[-5].split('LABEL=')[1]\n",
    "\n",
    "wget.download(url, base_path + 'test.nc')\n",
    "\n",
    "#base_path + url.split('&')[-5].split('LABEL=')[1]\n",
    "\n",
    "# file = '/Users/jwitte/earth-analytics/data/capstone/gpm/subset_GPM_3IMERGDL_06_20220403_161622.txt'\n",
    "# with open(file) as f:\n",
    "#     contents = f.readlines()\n",
    "# f.close()\n",
    "\n",
    "# for url in contents:\n",
    "#     r = requests.get(url)\n",
    "#     open(base_path + url.split('&')[-5].split('LABEL=')[1], 'wb').write(r.content)\n",
    "#     #wget.download(url, base_path + url.split('&')[-5].split('LABEL=')[1]) \n",
    "#     print(url.split('&')[-5].split('LABEL=')[1])\n"
   ]
  },
  {
   "cell_type": "code",
   "execution_count": null,
   "id": "a2b48186",
   "metadata": {},
   "outputs": [],
   "source": []
  },
  {
   "cell_type": "code",
   "execution_count": 31,
   "id": "e72a0a18",
   "metadata": {},
   "outputs": [
    {
     "ename": "ValueError",
     "evalue": "Shape of passed values is (9, 1), indices imply (1, 1)",
     "output_type": "error",
     "traceback": [
      "\u001b[0;31m---------------------------------------------------------------------------\u001b[0m",
      "\u001b[0;31mValueError\u001b[0m                                Traceback (most recent call last)",
      "\u001b[0;32m/var/folders/62/hcc5vcxn7rq_26dztbs26rfm000zzf/T/ipykernel_44757/2868709876.py\u001b[0m in \u001b[0;36m<module>\u001b[0;34m\u001b[0m\n\u001b[1;32m      8\u001b[0m \u001b[0;34m\u001b[0m\u001b[0m\n\u001b[1;32m      9\u001b[0m \u001b[0mlist\u001b[0m \u001b[0;34m=\u001b[0m \u001b[0;34m[\u001b[0m\u001b[0mdata1\u001b[0m\u001b[0;34m,\u001b[0m \u001b[0mdata2\u001b[0m\u001b[0;34m,\u001b[0m \u001b[0mdata3\u001b[0m\u001b[0;34m]\u001b[0m\u001b[0;34m\u001b[0m\u001b[0;34m\u001b[0m\u001b[0m\n\u001b[0;32m---> 10\u001b[0;31m \u001b[0mdf_invar\u001b[0m \u001b[0;34m=\u001b[0m \u001b[0mpd\u001b[0m\u001b[0;34m.\u001b[0m\u001b[0mDataFrame\u001b[0m\u001b[0;34m(\u001b[0m\u001b[0mdata\u001b[0m \u001b[0;34m=\u001b[0m \u001b[0mdata1\u001b[0m\u001b[0;34m,\u001b[0m \u001b[0mindex\u001b[0m\u001b[0;34m=\u001b[0m\u001b[0;34m[\u001b[0m\u001b[0;34m'time'\u001b[0m\u001b[0;34m]\u001b[0m\u001b[0;34m)\u001b[0m\u001b[0;34m\u001b[0m\u001b[0;34m\u001b[0m\u001b[0m\n\u001b[0m\u001b[1;32m     11\u001b[0m \u001b[0;34m\u001b[0m\u001b[0m\n\u001b[1;32m     12\u001b[0m \u001b[0mlist\u001b[0m\u001b[0;34m[\u001b[0m\u001b[0;36m0\u001b[0m\u001b[0;34m]\u001b[0m\u001b[0;34m[\u001b[0m\u001b[0;34m'time'\u001b[0m\u001b[0;34m]\u001b[0m\u001b[0;34m\u001b[0m\u001b[0;34m\u001b[0m\u001b[0m\n",
      "\u001b[0;32m~/miniconda3/envs/earth-analytics-python/lib/python3.8/site-packages/pandas/core/frame.py\u001b[0m in \u001b[0;36m__init__\u001b[0;34m(self, data, index, columns, dtype, copy)\u001b[0m\n\u001b[1;32m    709\u001b[0m                     )\n\u001b[1;32m    710\u001b[0m                 \u001b[0;32melse\u001b[0m\u001b[0;34m:\u001b[0m\u001b[0;34m\u001b[0m\u001b[0;34m\u001b[0m\u001b[0m\n\u001b[0;32m--> 711\u001b[0;31m                     mgr = ndarray_to_mgr(\n\u001b[0m\u001b[1;32m    712\u001b[0m                         \u001b[0mdata\u001b[0m\u001b[0;34m,\u001b[0m\u001b[0;34m\u001b[0m\u001b[0;34m\u001b[0m\u001b[0m\n\u001b[1;32m    713\u001b[0m                         \u001b[0mindex\u001b[0m\u001b[0;34m,\u001b[0m\u001b[0;34m\u001b[0m\u001b[0;34m\u001b[0m\u001b[0m\n",
      "\u001b[0;32m~/miniconda3/envs/earth-analytics-python/lib/python3.8/site-packages/pandas/core/internals/construction.py\u001b[0m in \u001b[0;36mndarray_to_mgr\u001b[0;34m(values, index, columns, dtype, copy, typ)\u001b[0m\n\u001b[1;32m    322\u001b[0m     )\n\u001b[1;32m    323\u001b[0m \u001b[0;34m\u001b[0m\u001b[0m\n\u001b[0;32m--> 324\u001b[0;31m     \u001b[0m_check_values_indices_shape_match\u001b[0m\u001b[0;34m(\u001b[0m\u001b[0mvalues\u001b[0m\u001b[0;34m,\u001b[0m \u001b[0mindex\u001b[0m\u001b[0;34m,\u001b[0m \u001b[0mcolumns\u001b[0m\u001b[0;34m)\u001b[0m\u001b[0;34m\u001b[0m\u001b[0;34m\u001b[0m\u001b[0m\n\u001b[0m\u001b[1;32m    325\u001b[0m \u001b[0;34m\u001b[0m\u001b[0m\n\u001b[1;32m    326\u001b[0m     \u001b[0;32mif\u001b[0m \u001b[0mtyp\u001b[0m \u001b[0;34m==\u001b[0m \u001b[0;34m\"array\"\u001b[0m\u001b[0;34m:\u001b[0m\u001b[0;34m\u001b[0m\u001b[0;34m\u001b[0m\u001b[0m\n",
      "\u001b[0;32m~/miniconda3/envs/earth-analytics-python/lib/python3.8/site-packages/pandas/core/internals/construction.py\u001b[0m in \u001b[0;36m_check_values_indices_shape_match\u001b[0;34m(values, index, columns)\u001b[0m\n\u001b[1;32m    391\u001b[0m         \u001b[0mpassed\u001b[0m \u001b[0;34m=\u001b[0m \u001b[0mvalues\u001b[0m\u001b[0;34m.\u001b[0m\u001b[0mshape\u001b[0m\u001b[0;34m\u001b[0m\u001b[0;34m\u001b[0m\u001b[0m\n\u001b[1;32m    392\u001b[0m         \u001b[0mimplied\u001b[0m \u001b[0;34m=\u001b[0m \u001b[0;34m(\u001b[0m\u001b[0mlen\u001b[0m\u001b[0;34m(\u001b[0m\u001b[0mindex\u001b[0m\u001b[0;34m)\u001b[0m\u001b[0;34m,\u001b[0m \u001b[0mlen\u001b[0m\u001b[0;34m(\u001b[0m\u001b[0mcolumns\u001b[0m\u001b[0;34m)\u001b[0m\u001b[0;34m)\u001b[0m\u001b[0;34m\u001b[0m\u001b[0;34m\u001b[0m\u001b[0m\n\u001b[0;32m--> 393\u001b[0;31m         \u001b[0;32mraise\u001b[0m \u001b[0mValueError\u001b[0m\u001b[0;34m(\u001b[0m\u001b[0;34mf\"Shape of passed values is {passed}, indices imply {implied}\"\u001b[0m\u001b[0;34m)\u001b[0m\u001b[0;34m\u001b[0m\u001b[0;34m\u001b[0m\u001b[0m\n\u001b[0m\u001b[1;32m    394\u001b[0m \u001b[0;34m\u001b[0m\u001b[0m\n\u001b[1;32m    395\u001b[0m \u001b[0;34m\u001b[0m\u001b[0m\n",
      "\u001b[0;31mValueError\u001b[0m: Shape of passed values is (9, 1), indices imply (1, 1)"
     ]
    }
   ],
   "source": [
    "file = os.path.join(data_dir, '3B-DAY-L.MS.MRG.3IMERG.20130915-S000000-E235959.V06.nc4.SUB.nc4')\n",
    "file2 = os.path.join(data_dir, '3B-DAY-L.MS.MRG.3IMERG.20130914-S000000-E235959.V06.nc4.SUB.nc4')\n",
    "file3 = os.path.join(data_dir, '3B-DAY-L.MS.MRG.3IMERG.20161211-S000000-E235959.V06.nc4.SUB.nc4')\n",
    "\n",
    "data1 = xr.open_dataset(file).squeeze()\n",
    "data2 = xr.open_dataset(file2).squeeze()\n",
    "data3 = xr.open_dataset(file3).squeeze()\n",
    "\n",
    "\n",
    "list[0]['time'] \n",
    "\n",
    "#data1['precipitationCal']"
   ]
  },
  {
   "cell_type": "code",
   "execution_count": null,
   "id": "0437718c",
   "metadata": {},
   "outputs": [],
   "source": [
    "# plot the data\n",
    "f, ax = plt.subplots(figsize=(8, 5))\n",
    "data['precipitationCal'].plot(x='lon', y='lat', ax=ax, robust=True)\n",
    "\n",
    "\n",
    "ax.plot([-105.3], [40.29350], 'o', color='white',\n",
    "        markersize=20, fillstyle='none', markeredgewidth=3)\n",
    "\n",
    "ax.set(title = 'Landslide Triggered by Tropical Cyclone\\n15 Sept 2013')\n",
    "\n",
    "# Adding text inside a rectangular box by using the keyword 'bbox'\n",
    "#ax.text(39, -105.52900, 'Tropical Cyclone\\nTrigger', fontsize=12,\n",
    "#         color='white')\n",
    "#         bbox=dict(facecolor='red', alpha=0.8))\n",
    "\n",
    "\n",
    "# Saving figure\n",
    "plot_output = os.path.join(et.io.HOME,\n",
    "                           'earth-analytics',\n",
    "                           'ea-python-2022-capstone', 'plots',\n",
    "                           'gpm_tropical_cyclone_20130915.jpg')\n",
    "\n",
    "plt.savefig(plot_output)"
   ]
  },
  {
   "cell_type": "code",
   "execution_count": null,
   "id": "8bec6d0e",
   "metadata": {},
   "outputs": [],
   "source": []
  },
  {
   "cell_type": "code",
   "execution_count": null,
   "id": "c448186d",
   "metadata": {},
   "outputs": [],
   "source": []
  }
 ],
 "metadata": {
  "kernelspec": {
   "display_name": "Python 3 (ipykernel)",
   "language": "python",
   "name": "python3"
  },
  "language_info": {
   "codemirror_mode": {
    "name": "ipython",
    "version": 3
   },
   "file_extension": ".py",
   "mimetype": "text/x-python",
   "name": "python",
   "nbconvert_exporter": "python",
   "pygments_lexer": "ipython3",
   "version": "3.8.10"
  },
  "varInspector": {
   "cols": {
    "lenName": 16,
    "lenType": 16,
    "lenVar": 40
   },
   "kernels_config": {
    "python": {
     "delete_cmd_postfix": "",
     "delete_cmd_prefix": "del ",
     "library": "var_list.py",
     "varRefreshCmd": "print(var_dic_list())"
    },
    "r": {
     "delete_cmd_postfix": ") ",
     "delete_cmd_prefix": "rm(",
     "library": "var_list.r",
     "varRefreshCmd": "cat(var_dic_list()) "
    }
   },
   "types_to_exclude": [
    "module",
    "function",
    "builtin_function_or_method",
    "instance",
    "_Feature"
   ],
   "window_display": false
  }
 },
 "nbformat": 4,
 "nbformat_minor": 5
}
