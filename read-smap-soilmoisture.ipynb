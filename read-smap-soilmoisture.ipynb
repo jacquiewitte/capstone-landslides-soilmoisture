{
 "cells": [
  {
   "cell_type": "code",
   "execution_count": 8,
   "id": "b86331f0",
   "metadata": {},
   "outputs": [],
   "source": [
    "import os\n",
    "import earthpy as et\n",
    "import matplotlib.pyplot as plt\n",
    "import xarray as xr\n",
    "import numpy as np\n",
    "import h5py"
   ]
  },
  {
   "cell_type": "code",
   "execution_count": 40,
   "id": "eeca736a",
   "metadata": {},
   "outputs": [],
   "source": [
    "file = '/Users/jwitte/earth-analytics/data/capstone/smap/SMAP_L3_SM_P_E_20150514_R17000_002.h5'\n",
    "#file = '/Users/jwitte/earth-analytics/data/capstone/smap/SMAP_L3_SM_P_E_20150705_R17000_002.h5'\n",
    "\n",
    "f = h5py.File(file, 'r')"
   ]
  },
  {
   "cell_type": "code",
   "execution_count": 41,
   "id": "f67ce856",
   "metadata": {},
   "outputs": [
    {
     "name": "stdout",
     "output_type": "stream",
     "text": [
      "Now lets look at the groups within the file to access:\n",
      "0\tMetadata\n",
      "1\tSoil_Moisture_Retrieval_Data_AM\n",
      "2\tSoil_Moisture_Retrieval_Data_PM\n",
      "\n",
      "\n",
      "Now lets look at the variables within the filegroup **Soil_Moisture_Retrieval_Data_AM** to access the actual data:\n",
      "0\tEASE_column_index\n",
      "1\tEASE_row_index\n",
      "2\talbedo\n",
      "3\talbedo_dca\n",
      "4\talbedo_scah\n",
      "5\talbedo_scav\n",
      "6\tboresight_incidence\n",
      "7\tbulk_density\n",
      "8\tclay_fraction\n",
      "9\tfreeze_thaw_fraction\n",
      "10\tgrid_surface_status\n",
      "11\tlatitude\n",
      "12\tlatitude_centroid\n",
      "13\tlongitude\n",
      "14\tlongitude_centroid\n",
      "15\tradar_water_body_fraction\n",
      "16\tretrieval_qual_flag\n",
      "17\tretrieval_qual_flag_dca\n",
      "18\tretrieval_qual_flag_scah\n",
      "19\tretrieval_qual_flag_scav\n",
      "20\troughness_coefficient\n",
      "21\troughness_coefficient_dca\n",
      "22\troughness_coefficient_scah\n",
      "23\troughness_coefficient_scav\n",
      "24\tsoil_moisture\n",
      "25\tsoil_moisture_dca\n",
      "26\tsoil_moisture_error\n",
      "27\tsoil_moisture_scah\n",
      "28\tsoil_moisture_scav\n",
      "29\tstatic_water_body_fraction\n",
      "30\tsurface_flag\n",
      "31\tsurface_temperature\n",
      "32\tsurface_water_fraction_mb_h\n",
      "33\tsurface_water_fraction_mb_v\n",
      "34\ttb_3_corrected\n",
      "35\ttb_4_corrected\n",
      "36\ttb_h_corrected\n",
      "37\ttb_h_uncorrected\n",
      "38\ttb_qual_flag_3\n",
      "39\ttb_qual_flag_4\n",
      "40\ttb_qual_flag_h\n",
      "41\ttb_qual_flag_v\n",
      "42\ttb_time_seconds\n",
      "43\ttb_time_utc\n",
      "44\ttb_v_corrected\n",
      "45\ttb_v_uncorrected\n",
      "46\tvegetation_opacity\n",
      "47\tvegetation_opacity_dca\n",
      "48\tvegetation_opacity_scah\n",
      "49\tvegetation_opacity_scav\n",
      "50\tvegetation_water_content\n"
     ]
    }
   ],
   "source": [
    "print(\"Now lets look at the groups within the file to access:\")\n",
    "i=0;\n",
    "for key in f.keys():\n",
    "    print(str(i)+ '\\t'+key)\n",
    "    i+=1\n",
    "group_id=list(f.keys())[1];# < Lets focus on the AM overpass for this example\n",
    "print('\\n')\n",
    "i=0\n",
    "print(\"Now lets look at the variables within the filegroup **Soil_Moisture_Retrieval_Data_AM** to access the actual data:\")\n",
    "for var in list(f[group_id].keys()):\n",
    "    print(str(i)+'\\t'+var)\n",
    "    i+=1"
   ]
  },
  {
   "cell_type": "code",
   "execution_count": 42,
   "id": "4b286cd0",
   "metadata": {},
   "outputs": [
    {
     "name": "stdout",
     "output_type": "stream",
     "text": [
      "the data has a shape of: (1624, 3856)\n"
     ]
    }
   ],
   "source": [
    "print('the data has a shape of: '+str(f[group_id][list(f[group_id].keys())[0]].shape))"
   ]
  },
  {
   "cell_type": "code",
   "execution_count": 43,
   "id": "ca9e9079",
   "metadata": {},
   "outputs": [
    {
     "name": "stdout",
     "output_type": "stream",
     "text": [
      "data are returned as <class 'numpy.ndarray'> something easy to work with in python.\n"
     ]
    }
   ],
   "source": [
    "var_id = list(f[group_id].keys())[16] # soil_moisture\n",
    "sm_data = f[group_id][var_id][:,:]\n",
    "sm_ds = f[group_id][var_id]\n",
    "print('data are returned as '+str(type(sm_data)) + ' something easy to work with in python.')"
   ]
  },
  {
   "cell_type": "code",
   "execution_count": 48,
   "id": "ca99632e",
   "metadata": {
    "scrolled": true
   },
   "outputs": [
    {
     "data": {
      "text/plain": [
       "(-0.5, 3855.5, 1623.5, -0.5)"
      ]
     },
     "execution_count": 48,
     "metadata": {},
     "output_type": "execute_result"
    },
    {
     "data": {
      "image/png": "[encoded data removed]",
      "text/plain": [
       "<Figure size 432x288 with 2 Axes>"
      ]
     },
     "metadata": {
      "needs_background": "light"
     },
     "output_type": "display_data"
    }
   ],
   "source": [
    "plt.imshow(sm_data, cmap='coolwarm')\n",
    "plt.title(os.path.basename(file))\n",
    "cbar = plt.colorbar(orientation = 'horizontal')\n",
    "cbar.set_label('$cm^3 cm^{-3}$')\n",
    "plt.axis('off')"
   ]
  },
  {
   "cell_type": "code",
   "execution_count": 15,
   "id": "1b785afa",
   "metadata": {},
   "outputs": [
    {
     "name": "stdout",
     "output_type": "stream",
     "text": [
      "65534\n"
     ]
    }
   ],
   "source": [
    "print(f[group_id][var_id].attrs['_FillValue'])"
   ]
  },
  {
   "cell_type": "code",
   "execution_count": 19,
   "id": "1365c01c",
   "metadata": {},
   "outputs": [],
   "source": [
    "# sm_data[sm_data==f[group_id][var_id].attrs['_FillValue']]=np.nan"
   ]
  },
  {
   "cell_type": "code",
   "execution_count": null,
   "id": "f27e9bfd",
   "metadata": {},
   "outputs": [],
   "source": []
  },
  {
   "cell_type": "code",
   "execution_count": null,
   "id": "ee093394",
   "metadata": {},
   "outputs": [],
   "source": []
  }
 ],
 "metadata": {
  "kernelspec": {
   "display_name": "Python 3 (ipykernel)",
   "language": "python",
   "name": "python3"
  },
  "language_info": {
   "codemirror_mode": {
    "name": "ipython",
    "version": 3
   },
   "file_extension": ".py",
   "mimetype": "text/x-python",
   "name": "python",
   "nbconvert_exporter": "python",
   "pygments_lexer": "ipython3",
   "version": "3.8.10"
  },
  "varInspector": {
   "cols": {
    "lenName": 16,
    "lenType": 16,
    "lenVar": 40
   },
   "kernels_config": {
    "python": {
     "delete_cmd_postfix": "",
     "delete_cmd_prefix": "del ",
     "library": "var_list.py",
     "varRefreshCmd": "print(var_dic_list())"
    },
    "r": {
     "delete_cmd_postfix": ") ",
     "delete_cmd_prefix": "rm(",
     "library": "var_list.r",
     "varRefreshCmd": "cat(var_dic_list()) "
    }
   },
   "types_to_exclude": [
    "module",
    "function",
    "builtin_function_or_method",
    "instance",
    "_Feature"
   ],
   "window_display": false
  }
 },
 "nbformat": 4,
 "nbformat_minor": 5
}
