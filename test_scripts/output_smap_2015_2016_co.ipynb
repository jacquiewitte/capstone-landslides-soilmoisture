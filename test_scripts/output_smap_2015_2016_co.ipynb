{
 "cells": [
  {
   "cell_type": "markdown",
   "id": "2f632a47",
   "metadata": {},
   "source": [
    "# Read all the NASA SMAP HDF5 data for 2015-2016 over Colorado\n",
    "### This is done separately because the files are many and takes up huge computation time that performing any further code takes forever! \n",
    "### Export as a netcdf4 file"
   ]
  },
  {
   "cell_type": "code",
   "execution_count": 62,
   "id": "acb1fd86",
   "metadata": {},
   "outputs": [],
   "source": [
    "import os\n",
    "from glob import glob\n",
    "\n",
    "import earthpy as et\n",
    "import matplotlib.pyplot as plt\n",
    "import xarray as xr\n",
    "import numpy as np\n",
    "import pandas as pd\n",
    "import h5py"
   ]
  },
  {
   "cell_type": "code",
   "execution_count": 43,
   "id": "248e0bc2",
   "metadata": {},
   "outputs": [
    {
     "name": "stdout",
     "output_type": "stream",
     "text": [
      "/Users/jwitte/earth-analytics/data/capstone/smap_colorado/SMAP_L3_SM_P_E_20150331_R17000_002.h5\n"
     ]
    }
   ],
   "source": [
    "data_dir = os.path.join(et.io.HOME,\n",
    "                        'earth-analytics',\n",
    "                        'data', 'capstone', 'smap_colorado')\n",
    "file = sorted(glob(os.path.join(data_dir, '*.h5')))\n",
    "\n",
    "# data_dir = os.path.join(et.io.HOME,\n",
    "#                         'earth-analytics',\n",
    "#                         'data', 'capstone', 'smap_l3_new')\n",
    "# file = sorted(glob(os.path.join(data_dir, '*.h5')))\n",
    "\n",
    "\n",
    "f = h5py.File(file[0], 'r')\n",
    "print(file[0])"
   ]
  },
  {
   "cell_type": "code",
   "execution_count": 44,
   "id": "3ddfd29a",
   "metadata": {},
   "outputs": [
    {
     "name": "stdout",
     "output_type": "stream",
     "text": [
      "Now lets look at the groups within the file to access:\n",
      "0\tMetadata\n",
      "1\tSoil_Moisture_Retrieval_Data_AM\n",
      "2\tSoil_Moisture_Retrieval_Data_PM\n",
      "\n",
      "\n",
      "Now lets look at the variables within the filegroup **Soil_Moisture_Retrieval_Data_AM** to access the actual data:\n",
      "0\tEASE_column_index\n",
      "1\tEASE_row_index\n",
      "2\talbedo\n",
      "3\talbedo_dca\n",
      "4\talbedo_scah\n",
      "5\talbedo_scav\n",
      "6\tboresight_incidence\n",
      "7\tbulk_density\n",
      "8\tclay_fraction\n",
      "9\tfreeze_thaw_fraction\n",
      "10\tgrid_surface_status\n",
      "11\tlatitude\n",
      "12\tlatitude_centroid\n",
      "13\tlongitude\n",
      "14\tlongitude_centroid\n",
      "15\tradar_water_body_fraction\n",
      "16\tretrieval_qual_flag\n",
      "17\tretrieval_qual_flag_dca\n",
      "18\tretrieval_qual_flag_scah\n",
      "19\tretrieval_qual_flag_scav\n",
      "20\troughness_coefficient\n",
      "21\troughness_coefficient_dca\n",
      "22\troughness_coefficient_scah\n",
      "23\troughness_coefficient_scav\n",
      "24\tsoil_moisture\n",
      "25\tsoil_moisture_dca\n",
      "26\tsoil_moisture_error\n",
      "27\tsoil_moisture_scah\n",
      "28\tsoil_moisture_scav\n",
      "29\tstatic_water_body_fraction\n",
      "30\tsurface_flag\n",
      "31\tsurface_temperature\n",
      "32\tsurface_water_fraction_mb_h\n",
      "33\tsurface_water_fraction_mb_v\n",
      "34\ttb_3_corrected\n",
      "35\ttb_4_corrected\n",
      "36\ttb_h_corrected\n",
      "37\ttb_h_uncorrected\n",
      "38\ttb_qual_flag_3\n",
      "39\ttb_qual_flag_4\n",
      "40\ttb_qual_flag_h\n",
      "41\ttb_qual_flag_v\n",
      "42\ttb_time_seconds\n",
      "43\ttb_time_utc\n",
      "44\ttb_v_corrected\n",
      "45\ttb_v_uncorrected\n",
      "46\tvegetation_opacity\n",
      "47\tvegetation_opacity_dca\n",
      "48\tvegetation_opacity_scah\n",
      "49\tvegetation_opacity_scav\n",
      "50\tvegetation_water_content\n"
     ]
    }
   ],
   "source": [
    "print(\"Now lets look at the groups within the file to access:\")\n",
    "i=0;\n",
    "for key in f.keys():\n",
    "    print(str(i)+ '\\t'+key)\n",
    "    i+=1\n",
    "print('\\n')\n",
    "\n",
    "# Lets focus on the AM overpass for this example\n",
    "group_id=list(f.keys())[1]; \n",
    "\n",
    "i=0\n",
    "print(\"Now lets look at the variables within the filegroup **Soil_Moisture_Retrieval_Data_AM** to access the actual data:\")\n",
    "for var in list(f[group_id].keys()):\n",
    "    print(str(i)+'\\t'+var)\n",
    "    i+=1"
   ]
  },
  {
   "cell_type": "code",
   "execution_count": 45,
   "id": "034323ab",
   "metadata": {},
   "outputs": [
    {
     "name": "stdout",
     "output_type": "stream",
     "text": [
      "the data has a shape of: (1624, 3856)\n"
     ]
    }
   ],
   "source": [
    "print('the data has a shape of: '+str(f[group_id][list(f[group_id].keys())[0]].shape))"
   ]
  },
  {
   "cell_type": "markdown",
   "id": "4365d5f5",
   "metadata": {},
   "source": [
    "#### Retrieve the soil moisture, latitude, longitude parameters"
   ]
  },
  {
   "cell_type": "code",
   "execution_count": 46,
   "id": "d71b2c15",
   "metadata": {},
   "outputs": [
    {
     "name": "stdout",
     "output_type": "stream",
     "text": [
      "data are returned as <class 'numpy.ndarray'> something easy to work with in python.\n",
      "<HDF5 dataset \"soil_moisture\": shape (1624, 3856), type \"<f4\">\n"
     ]
    }
   ],
   "source": [
    "var_id = list(f[group_id].keys())[24] # soil_moisture\n",
    "sm_data = f[group_id][var_id][:]\n",
    "sm_ds = f[group_id][var_id]\n",
    "\n",
    "print('data are returned as '+str(type(sm_data)) + ' something easy to work with in python.')\n",
    "print(sm_ds)"
   ]
  },
  {
   "cell_type": "markdown",
   "id": "c47f6da7",
   "metadata": {},
   "source": [
    "#### Replace bad values with NaN"
   ]
  },
  {
   "cell_type": "code",
   "execution_count": 47,
   "id": "e598e02b",
   "metadata": {},
   "outputs": [],
   "source": [
    "sm_data[sm_data==sm_ds.attrs['_FillValue']]=np.nan;"
   ]
  },
  {
   "cell_type": "code",
   "execution_count": 48,
   "id": "8a40008b",
   "metadata": {},
   "outputs": [
    {
     "data": {
      "image/png": "[encoded data removed]",
      "text/plain": [
       "<Figure size 432x288 with 2 Axes>"
      ]
     },
     "metadata": {
      "needs_background": "light"
     },
     "output_type": "display_data"
    }
   ],
   "source": [
    "sm_data[sm_data==f[group_id][var_id].attrs['_FillValue']]=np.nan;\n",
    "plt.imshow(sm_data,cmap = 'terrain_r');\n",
    "cbar = plt.colorbar(orientation='horizontal')\n",
    "cbar.set_label('$cm^3 cm^{-3}$')"
   ]
  },
  {
   "cell_type": "markdown",
   "id": "87eefecb",
   "metadata": {},
   "source": [
    "#### Below we load the EASE2 grid lon and lat datasets. These can be found on the NSIDC website."
   ]
  },
  {
   "cell_type": "code",
   "execution_count": 40,
   "id": "ed7b6afb",
   "metadata": {},
   "outputs": [],
   "source": [
    "# Read binary files and reshape to correct size\n",
    "\n",
    "lats = np.fromfile(os.path.join(data_dir, 'EASE2_M09km.lats.3856x1624x1.double'), \n",
    "                      dtype=np.float64).reshape((1624, 3856))#< reshape to dimensions above\n",
    "lons = np.fromfile(os.path.join(data_dir, 'EASE2_M09km.lons.3856x1624x1.double'), \n",
    "                      dtype=np.float64).reshape((1624, 3856))\n",
    "\n",
    "# lats = np.fromfile(os.path.join(data_dir, 'EASE2_M36km.lats.964x406x1.double'), \n",
    "#                       dtype=np.float64).reshape((406,964))#< reshape to dimensions above\n",
    "# lons = np.fromfile(os.path.join(data_dir, 'EASE2_M36km.lons.964x406x1.double'), \n",
    "#                       dtype=np.float64).reshape((406,964))"
   ]
  },
  {
   "cell_type": "code",
   "execution_count": null,
   "id": "69e02162",
   "metadata": {},
   "outputs": [],
   "source": []
  },
  {
   "cell_type": "markdown",
   "id": "ca4dcd27",
   "metadata": {},
   "source": [
    "#### Isolate Colorado"
   ]
  },
  {
   "cell_type": "code",
   "execution_count": 52,
   "id": "72657bd1",
   "metadata": {},
   "outputs": [
    {
     "data": {
      "text/plain": [
       "(3300,)"
      ]
     },
     "execution_count": 52,
     "metadata": {},
     "output_type": "execute_result"
    }
   ],
   "source": [
    "N_lat = 41.003444\n",
    "S_lat = 36.992426\n",
    "W_lon = -109.060253\n",
    "E_lon = -102.041524\n",
    "\n",
    "subset = (lats < N_lat) & (lats > S_lat) & (lons > W_lon) & (lons < E_lon)\n",
    "sm_co = sm_data[subset]\n",
    "sm_co.shape"
   ]
  },
  {
   "cell_type": "code",
   "execution_count": 61,
   "id": "ec0694d7",
   "metadata": {},
   "outputs": [
    {
     "ename": "ValueError",
     "evalue": "cannot reshape array of size 3300 into shape (1624,3856)",
     "output_type": "error",
     "traceback": [
      "\u001b[0;31m---------------------------------------------------------------------------\u001b[0m",
      "\u001b[0;31mValueError\u001b[0m                                Traceback (most recent call last)",
      "\u001b[0;32m/var/folders/62/hcc5vcxn7rq_26dztbs26rfm000zzf/T/ipykernel_72707/491999619.py\u001b[0m in \u001b[0;36m<module>\u001b[0;34m\u001b[0m\n\u001b[1;32m      8\u001b[0m \u001b[0mlon_index\u001b[0m \u001b[0;34m=\u001b[0m \u001b[0mnp\u001b[0m\u001b[0;34m.\u001b[0m\u001b[0mlogical_and\u001b[0m\u001b[0;34m(\u001b[0m\u001b[0mlons\u001b[0m \u001b[0;34m>\u001b[0m \u001b[0mbox_lon\u001b[0m\u001b[0;34m[\u001b[0m\u001b[0;36m0\u001b[0m\u001b[0;34m]\u001b[0m\u001b[0;34m,\u001b[0m \u001b[0mlons\u001b[0m \u001b[0;34m<\u001b[0m \u001b[0mbox_lon\u001b[0m\u001b[0;34m[\u001b[0m\u001b[0;36m1\u001b[0m\u001b[0;34m]\u001b[0m\u001b[0;34m)\u001b[0m\u001b[0;34m\u001b[0m\u001b[0;34m\u001b[0m\u001b[0m\n\u001b[1;32m      9\u001b[0m \u001b[0mbox_index\u001b[0m \u001b[0;34m=\u001b[0m \u001b[0mnp\u001b[0m\u001b[0;34m.\u001b[0m\u001b[0mlogical_and\u001b[0m\u001b[0;34m(\u001b[0m\u001b[0mlat_index\u001b[0m\u001b[0;34m,\u001b[0m \u001b[0mlon_index\u001b[0m\u001b[0;34m)\u001b[0m\u001b[0;34m\u001b[0m\u001b[0;34m\u001b[0m\u001b[0m\n\u001b[0;32m---> 10\u001b[0;31m \u001b[0mdata\u001b[0m \u001b[0;34m=\u001b[0m \u001b[0msm_data\u001b[0m\u001b[0;34m[\u001b[0m\u001b[0mbox_index\u001b[0m\u001b[0;34m]\u001b[0m\u001b[0;34m.\u001b[0m\u001b[0mreshape\u001b[0m\u001b[0;34m(\u001b[0m\u001b[0;34m(\u001b[0m\u001b[0;36m1624\u001b[0m\u001b[0;34m,\u001b[0m \u001b[0;36m3856\u001b[0m\u001b[0;34m)\u001b[0m\u001b[0;34m)\u001b[0m\u001b[0;34m\u001b[0m\u001b[0;34m\u001b[0m\u001b[0m\n\u001b[0m\u001b[1;32m     11\u001b[0m \u001b[0;34m\u001b[0m\u001b[0m\n\u001b[1;32m     12\u001b[0m \u001b[0mbox_index\u001b[0m\u001b[0;34m.\u001b[0m\u001b[0mshape\u001b[0m\u001b[0;34m\u001b[0m\u001b[0;34m\u001b[0m\u001b[0m\n",
      "\u001b[0;31mValueError\u001b[0m: cannot reshape array of size 3300 into shape (1624,3856)"
     ]
    }
   ],
   "source": [
    "# Bounding box taken from https://anthonylouisdagostino.com/bounding-boxes-for-all-us-states/\n",
    "# Reference for isolating a region: https://gis.stackexchange.com/questions/261061/extract-value-for-a-given-coordinate-from-hdf5-file\n",
    "box_lat = [36.992426, 41.003444]\n",
    "box_lon = [-109.060253, -102.041524]\n",
    "\n",
    "\n",
    "lat_index = np.logical_and(lats > box_lat[0], lats < box_lat[1])\n",
    "lon_index = np.logical_and(lons > box_lon[0], lons < box_lon[1])\n",
    "box_index = np.logical_and(lat_index, lon_index)\n",
    "data = sm_data[box_index]\n",
    "\n",
    "box_index.shape\n"
   ]
  },
  {
   "cell_type": "code",
   "execution_count": 23,
   "id": "c354360e",
   "metadata": {},
   "outputs": [
    {
     "ename": "TypeError",
     "evalue": "Invalid shape (209,) for image data",
     "output_type": "error",
     "traceback": [
      "\u001b[0;31m---------------------------------------------------------------------------\u001b[0m",
      "\u001b[0;31mTypeError\u001b[0m                                 Traceback (most recent call last)",
      "\u001b[0;32m/var/folders/62/hcc5vcxn7rq_26dztbs26rfm000zzf/T/ipykernel_72707/720704008.py\u001b[0m in \u001b[0;36m<module>\u001b[0;34m\u001b[0m\n\u001b[1;32m      1\u001b[0m \u001b[0;31m# Plot the data\u001b[0m\u001b[0;34m\u001b[0m\u001b[0;34m\u001b[0m\u001b[0;34m\u001b[0m\u001b[0m\n\u001b[0;32m----> 2\u001b[0;31m \u001b[0mplt\u001b[0m\u001b[0;34m.\u001b[0m\u001b[0mimshow\u001b[0m\u001b[0;34m(\u001b[0m\u001b[0mdata\u001b[0m\u001b[0;34m,\u001b[0m \u001b[0mcmap\u001b[0m\u001b[0;34m=\u001b[0m\u001b[0;34m'coolwarm_r'\u001b[0m\u001b[0;34m)\u001b[0m\u001b[0;34m\u001b[0m\u001b[0;34m\u001b[0m\u001b[0m\n\u001b[0m\u001b[1;32m      3\u001b[0m \u001b[0mplt\u001b[0m\u001b[0;34m.\u001b[0m\u001b[0mtitle\u001b[0m\u001b[0;34m(\u001b[0m\u001b[0mos\u001b[0m\u001b[0;34m.\u001b[0m\u001b[0mpath\u001b[0m\u001b[0;34m.\u001b[0m\u001b[0mbasename\u001b[0m\u001b[0;34m(\u001b[0m\u001b[0mfile\u001b[0m\u001b[0;34m)\u001b[0m\u001b[0;34m)\u001b[0m\u001b[0;34m\u001b[0m\u001b[0;34m\u001b[0m\u001b[0m\n\u001b[1;32m      4\u001b[0m \u001b[0mcbar\u001b[0m \u001b[0;34m=\u001b[0m \u001b[0mplt\u001b[0m\u001b[0;34m.\u001b[0m\u001b[0mcolorbar\u001b[0m\u001b[0;34m(\u001b[0m\u001b[0morientation\u001b[0m \u001b[0;34m=\u001b[0m \u001b[0;34m'horizontal'\u001b[0m\u001b[0;34m)\u001b[0m\u001b[0;34m\u001b[0m\u001b[0;34m\u001b[0m\u001b[0m\n\u001b[1;32m      5\u001b[0m \u001b[0mcbar\u001b[0m\u001b[0;34m.\u001b[0m\u001b[0mset_label\u001b[0m\u001b[0;34m(\u001b[0m\u001b[0;34m'$cm^3 cm^{-3}$'\u001b[0m\u001b[0;34m)\u001b[0m\u001b[0;34m\u001b[0m\u001b[0;34m\u001b[0m\u001b[0m\n",
      "\u001b[0;32m~/miniconda3/envs/earth-analytics-python/lib/python3.8/site-packages/matplotlib/pyplot.py\u001b[0m in \u001b[0;36mimshow\u001b[0;34m(X, cmap, norm, aspect, interpolation, alpha, vmin, vmax, origin, extent, filternorm, filterrad, resample, url, data, **kwargs)\u001b[0m\n\u001b[1;32m   2901\u001b[0m         \u001b[0mfilternorm\u001b[0m\u001b[0;34m=\u001b[0m\u001b[0;32mTrue\u001b[0m\u001b[0;34m,\u001b[0m \u001b[0mfilterrad\u001b[0m\u001b[0;34m=\u001b[0m\u001b[0;36m4.0\u001b[0m\u001b[0;34m,\u001b[0m \u001b[0mresample\u001b[0m\u001b[0;34m=\u001b[0m\u001b[0;32mNone\u001b[0m\u001b[0;34m,\u001b[0m \u001b[0murl\u001b[0m\u001b[0;34m=\u001b[0m\u001b[0;32mNone\u001b[0m\u001b[0;34m,\u001b[0m\u001b[0;34m\u001b[0m\u001b[0;34m\u001b[0m\u001b[0m\n\u001b[1;32m   2902\u001b[0m         data=None, **kwargs):\n\u001b[0;32m-> 2903\u001b[0;31m     __ret = gca().imshow(\n\u001b[0m\u001b[1;32m   2904\u001b[0m         \u001b[0mX\u001b[0m\u001b[0;34m,\u001b[0m \u001b[0mcmap\u001b[0m\u001b[0;34m=\u001b[0m\u001b[0mcmap\u001b[0m\u001b[0;34m,\u001b[0m \u001b[0mnorm\u001b[0m\u001b[0;34m=\u001b[0m\u001b[0mnorm\u001b[0m\u001b[0;34m,\u001b[0m \u001b[0maspect\u001b[0m\u001b[0;34m=\u001b[0m\u001b[0maspect\u001b[0m\u001b[0;34m,\u001b[0m\u001b[0;34m\u001b[0m\u001b[0;34m\u001b[0m\u001b[0m\n\u001b[1;32m   2905\u001b[0m         \u001b[0minterpolation\u001b[0m\u001b[0;34m=\u001b[0m\u001b[0minterpolation\u001b[0m\u001b[0;34m,\u001b[0m \u001b[0malpha\u001b[0m\u001b[0;34m=\u001b[0m\u001b[0malpha\u001b[0m\u001b[0;34m,\u001b[0m \u001b[0mvmin\u001b[0m\u001b[0;34m=\u001b[0m\u001b[0mvmin\u001b[0m\u001b[0;34m,\u001b[0m\u001b[0;34m\u001b[0m\u001b[0;34m\u001b[0m\u001b[0m\n",
      "\u001b[0;32m~/miniconda3/envs/earth-analytics-python/lib/python3.8/site-packages/matplotlib/__init__.py\u001b[0m in \u001b[0;36minner\u001b[0;34m(ax, data, *args, **kwargs)\u001b[0m\n\u001b[1;32m   1359\u001b[0m     \u001b[0;32mdef\u001b[0m \u001b[0minner\u001b[0m\u001b[0;34m(\u001b[0m\u001b[0max\u001b[0m\u001b[0;34m,\u001b[0m \u001b[0;34m*\u001b[0m\u001b[0margs\u001b[0m\u001b[0;34m,\u001b[0m \u001b[0mdata\u001b[0m\u001b[0;34m=\u001b[0m\u001b[0;32mNone\u001b[0m\u001b[0;34m,\u001b[0m \u001b[0;34m**\u001b[0m\u001b[0mkwargs\u001b[0m\u001b[0;34m)\u001b[0m\u001b[0;34m:\u001b[0m\u001b[0;34m\u001b[0m\u001b[0;34m\u001b[0m\u001b[0m\n\u001b[1;32m   1360\u001b[0m         \u001b[0;32mif\u001b[0m \u001b[0mdata\u001b[0m \u001b[0;32mis\u001b[0m \u001b[0;32mNone\u001b[0m\u001b[0;34m:\u001b[0m\u001b[0;34m\u001b[0m\u001b[0;34m\u001b[0m\u001b[0m\n\u001b[0;32m-> 1361\u001b[0;31m             \u001b[0;32mreturn\u001b[0m \u001b[0mfunc\u001b[0m\u001b[0;34m(\u001b[0m\u001b[0max\u001b[0m\u001b[0;34m,\u001b[0m \u001b[0;34m*\u001b[0m\u001b[0mmap\u001b[0m\u001b[0;34m(\u001b[0m\u001b[0msanitize_sequence\u001b[0m\u001b[0;34m,\u001b[0m \u001b[0margs\u001b[0m\u001b[0;34m)\u001b[0m\u001b[0;34m,\u001b[0m \u001b[0;34m**\u001b[0m\u001b[0mkwargs\u001b[0m\u001b[0;34m)\u001b[0m\u001b[0;34m\u001b[0m\u001b[0;34m\u001b[0m\u001b[0m\n\u001b[0m\u001b[1;32m   1362\u001b[0m \u001b[0;34m\u001b[0m\u001b[0m\n\u001b[1;32m   1363\u001b[0m         \u001b[0mbound\u001b[0m \u001b[0;34m=\u001b[0m \u001b[0mnew_sig\u001b[0m\u001b[0;34m.\u001b[0m\u001b[0mbind\u001b[0m\u001b[0;34m(\u001b[0m\u001b[0max\u001b[0m\u001b[0;34m,\u001b[0m \u001b[0;34m*\u001b[0m\u001b[0margs\u001b[0m\u001b[0;34m,\u001b[0m \u001b[0;34m**\u001b[0m\u001b[0mkwargs\u001b[0m\u001b[0;34m)\u001b[0m\u001b[0;34m\u001b[0m\u001b[0;34m\u001b[0m\u001b[0m\n",
      "\u001b[0;32m~/miniconda3/envs/earth-analytics-python/lib/python3.8/site-packages/matplotlib/axes/_axes.py\u001b[0m in \u001b[0;36mimshow\u001b[0;34m(self, X, cmap, norm, aspect, interpolation, alpha, vmin, vmax, origin, extent, filternorm, filterrad, resample, url, **kwargs)\u001b[0m\n\u001b[1;32m   5607\u001b[0m                               resample=resample, **kwargs)\n\u001b[1;32m   5608\u001b[0m \u001b[0;34m\u001b[0m\u001b[0m\n\u001b[0;32m-> 5609\u001b[0;31m         \u001b[0mim\u001b[0m\u001b[0;34m.\u001b[0m\u001b[0mset_data\u001b[0m\u001b[0;34m(\u001b[0m\u001b[0mX\u001b[0m\u001b[0;34m)\u001b[0m\u001b[0;34m\u001b[0m\u001b[0;34m\u001b[0m\u001b[0m\n\u001b[0m\u001b[1;32m   5610\u001b[0m         \u001b[0mim\u001b[0m\u001b[0;34m.\u001b[0m\u001b[0mset_alpha\u001b[0m\u001b[0;34m(\u001b[0m\u001b[0malpha\u001b[0m\u001b[0;34m)\u001b[0m\u001b[0;34m\u001b[0m\u001b[0;34m\u001b[0m\u001b[0m\n\u001b[1;32m   5611\u001b[0m         \u001b[0;32mif\u001b[0m \u001b[0mim\u001b[0m\u001b[0;34m.\u001b[0m\u001b[0mget_clip_path\u001b[0m\u001b[0;34m(\u001b[0m\u001b[0;34m)\u001b[0m \u001b[0;32mis\u001b[0m \u001b[0;32mNone\u001b[0m\u001b[0;34m:\u001b[0m\u001b[0;34m\u001b[0m\u001b[0;34m\u001b[0m\u001b[0m\n",
      "\u001b[0;32m~/miniconda3/envs/earth-analytics-python/lib/python3.8/site-packages/matplotlib/image.py\u001b[0m in \u001b[0;36mset_data\u001b[0;34m(self, A)\u001b[0m\n\u001b[1;32m    707\u001b[0m         if not (self._A.ndim == 2\n\u001b[1;32m    708\u001b[0m                 or self._A.ndim == 3 and self._A.shape[-1] in [3, 4]):\n\u001b[0;32m--> 709\u001b[0;31m             raise TypeError(\"Invalid shape {} for image data\"\n\u001b[0m\u001b[1;32m    710\u001b[0m                             .format(self._A.shape))\n\u001b[1;32m    711\u001b[0m \u001b[0;34m\u001b[0m\u001b[0m\n",
      "\u001b[0;31mTypeError\u001b[0m: Invalid shape (209,) for image data"
     ]
    },
    {
     "data": {
      "image/png": "[encoded data removed]",
      "text/plain": [
       "<Figure size 432x288 with 1 Axes>"
      ]
     },
     "metadata": {
      "needs_background": "light"
     },
     "output_type": "display_data"
    }
   ],
   "source": [
    "# Plot the data\n",
    "plt.imshow(data, cmap='coolwarm_r')\n",
    "plt.title(os.path.basename(file))\n",
    "cbar = plt.colorbar(orientation = 'horizontal')\n",
    "cbar.set_label('$cm^3 cm^{-3}$')\n",
    "plt.axis('off')"
   ]
  },
  {
   "cell_type": "code",
   "execution_count": null,
   "id": "8679e982",
   "metadata": {},
   "outputs": [],
   "source": []
  },
  {
   "cell_type": "code",
   "execution_count": null,
   "id": "5466c2e0",
   "metadata": {},
   "outputs": [],
   "source": []
  }
 ],
 "metadata": {
  "kernelspec": {
   "display_name": "Python 3 (ipykernel)",
   "language": "python",
   "name": "python3"
  },
  "language_info": {
   "codemirror_mode": {
    "name": "ipython",
    "version": 3
   },
   "file_extension": ".py",
   "mimetype": "text/x-python",
   "name": "python",
   "nbconvert_exporter": "python",
   "pygments_lexer": "ipython3",
   "version": "3.8.10"
  },
  "varInspector": {
   "cols": {
    "lenName": 16,
    "lenType": 16,
    "lenVar": 40
   },
   "kernels_config": {
    "python": {
     "delete_cmd_postfix": "",
     "delete_cmd_prefix": "del ",
     "library": "var_list.py",
     "varRefreshCmd": "print(var_dic_list())"
    },
    "r": {
     "delete_cmd_postfix": ") ",
     "delete_cmd_prefix": "rm(",
     "library": "var_list.r",
     "varRefreshCmd": "cat(var_dic_list()) "
    }
   },
   "types_to_exclude": [
    "module",
    "function",
    "builtin_function_or_method",
    "instance",
    "_Feature"
   ],
   "window_display": false
  }
 },
 "nbformat": 4,
 "nbformat_minor": 5
}
